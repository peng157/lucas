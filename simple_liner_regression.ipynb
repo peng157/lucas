{
  "nbformat": 4,
  "nbformat_minor": 0,
  "metadata": {
    "colab": {
      "provenance": [],
      "gpuType": "T4",
      "authorship_tag": "ABX9TyNGDJE8tmuUyD8z7LzJ7iI5",
      "include_colab_link": true
    },
    "kernelspec": {
      "name": "python3",
      "display_name": "Python 3"
    },
    "language_info": {
      "name": "python"
    },
    "accelerator": "GPU",
    "widgets": {
      "application/vnd.jupyter.widget-state+json": {
        "233194a776c2443c974b1af41d4d59ff": {
          "model_module": "@jupyter-widgets/controls",
          "model_name": "VBoxModel",
          "model_module_version": "1.5.0",
          "state": {
            "_dom_classes": [
              "widget-interact"
            ],
            "_model_module": "@jupyter-widgets/controls",
            "_model_module_version": "1.5.0",
            "_model_name": "VBoxModel",
            "_view_count": null,
            "_view_module": "@jupyter-widgets/controls",
            "_view_module_version": "1.5.0",
            "_view_name": "VBoxView",
            "box_style": "",
            "children": [
              "IPY_MODEL_563669c8e6de457f954b71faed8c625b",
              "IPY_MODEL_8f3741e490444516b9762ce0d14345ef",
              "IPY_MODEL_3bd5e544cb3a470e812d37f72491b637"
            ],
            "layout": "IPY_MODEL_99fa7eac09d644a3852b2fdb737e9172"
          }
        },
        "563669c8e6de457f954b71faed8c625b": {
          "model_module": "@jupyter-widgets/controls",
          "model_name": "IntSliderModel",
          "model_module_version": "1.5.0",
          "state": {
            "_dom_classes": [],
            "_model_module": "@jupyter-widgets/controls",
            "_model_module_version": "1.5.0",
            "_model_name": "IntSliderModel",
            "_view_count": null,
            "_view_module": "@jupyter-widgets/controls",
            "_view_module_version": "1.5.0",
            "_view_name": "IntSliderView",
            "continuous_update": true,
            "description": "w",
            "description_tooltip": null,
            "disabled": false,
            "layout": "IPY_MODEL_30e807ee748c407abde617760a87cdc5",
            "max": 100,
            "min": -100,
            "orientation": "horizontal",
            "readout": true,
            "readout_format": "d",
            "step": 1,
            "style": "IPY_MODEL_bf0330c759c94be5902204023f3bb0ee",
            "value": 11
          }
        },
        "8f3741e490444516b9762ce0d14345ef": {
          "model_module": "@jupyter-widgets/controls",
          "model_name": "IntSliderModel",
          "model_module_version": "1.5.0",
          "state": {
            "_dom_classes": [],
            "_model_module": "@jupyter-widgets/controls",
            "_model_module_version": "1.5.0",
            "_model_name": "IntSliderModel",
            "_view_count": null,
            "_view_module": "@jupyter-widgets/controls",
            "_view_module_version": "1.5.0",
            "_view_name": "IntSliderView",
            "continuous_update": true,
            "description": "b",
            "description_tooltip": null,
            "disabled": false,
            "layout": "IPY_MODEL_11b8f90cc4aa419a9de08654bbc0ff81",
            "max": 100,
            "min": -100,
            "orientation": "horizontal",
            "readout": true,
            "readout_format": "d",
            "step": 1,
            "style": "IPY_MODEL_795a7d171fdc4817bfeb001f304b49df",
            "value": 24
          }
        },
        "3bd5e544cb3a470e812d37f72491b637": {
          "model_module": "@jupyter-widgets/output",
          "model_name": "OutputModel",
          "model_module_version": "1.0.0",
          "state": {
            "_dom_classes": [],
            "_model_module": "@jupyter-widgets/output",
            "_model_module_version": "1.0.0",
            "_model_name": "OutputModel",
            "_view_count": null,
            "_view_module": "@jupyter-widgets/output",
            "_view_module_version": "1.0.0",
            "_view_name": "OutputView",
            "layout": "IPY_MODEL_ed4ce922a74a42f38de363d0a881b057",
            "msg_id": "",
            "outputs": [
              {
                "output_type": "display_data",
                "data": {
                  "text/plain": "<Figure size 640x480 with 1 Axes>",
                  "image/png": "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\n"
                },
                "metadata": {}
              }
            ]
          }
        },
        "99fa7eac09d644a3852b2fdb737e9172": {
          "model_module": "@jupyter-widgets/base",
          "model_name": "LayoutModel",
          "model_module_version": "1.2.0",
          "state": {
            "_model_module": "@jupyter-widgets/base",
            "_model_module_version": "1.2.0",
            "_model_name": "LayoutModel",
            "_view_count": null,
            "_view_module": "@jupyter-widgets/base",
            "_view_module_version": "1.2.0",
            "_view_name": "LayoutView",
            "align_content": null,
            "align_items": null,
            "align_self": null,
            "border": null,
            "bottom": null,
            "display": null,
            "flex": null,
            "flex_flow": null,
            "grid_area": null,
            "grid_auto_columns": null,
            "grid_auto_flow": null,
            "grid_auto_rows": null,
            "grid_column": null,
            "grid_gap": null,
            "grid_row": null,
            "grid_template_areas": null,
            "grid_template_columns": null,
            "grid_template_rows": null,
            "height": null,
            "justify_content": null,
            "justify_items": null,
            "left": null,
            "margin": null,
            "max_height": null,
            "max_width": null,
            "min_height": null,
            "min_width": null,
            "object_fit": null,
            "object_position": null,
            "order": null,
            "overflow": null,
            "overflow_x": null,
            "overflow_y": null,
            "padding": null,
            "right": null,
            "top": null,
            "visibility": null,
            "width": null
          }
        },
        "30e807ee748c407abde617760a87cdc5": {
          "model_module": "@jupyter-widgets/base",
          "model_name": "LayoutModel",
          "model_module_version": "1.2.0",
          "state": {
            "_model_module": "@jupyter-widgets/base",
            "_model_module_version": "1.2.0",
            "_model_name": "LayoutModel",
            "_view_count": null,
            "_view_module": "@jupyter-widgets/base",
            "_view_module_version": "1.2.0",
            "_view_name": "LayoutView",
            "align_content": null,
            "align_items": null,
            "align_self": null,
            "border": null,
            "bottom": null,
            "display": null,
            "flex": null,
            "flex_flow": null,
            "grid_area": null,
            "grid_auto_columns": null,
            "grid_auto_flow": null,
            "grid_auto_rows": null,
            "grid_column": null,
            "grid_gap": null,
            "grid_row": null,
            "grid_template_areas": null,
            "grid_template_columns": null,
            "grid_template_rows": null,
            "height": null,
            "justify_content": null,
            "justify_items": null,
            "left": null,
            "margin": null,
            "max_height": null,
            "max_width": null,
            "min_height": null,
            "min_width": null,
            "object_fit": null,
            "object_position": null,
            "order": null,
            "overflow": null,
            "overflow_x": null,
            "overflow_y": null,
            "padding": null,
            "right": null,
            "top": null,
            "visibility": null,
            "width": null
          }
        },
        "bf0330c759c94be5902204023f3bb0ee": {
          "model_module": "@jupyter-widgets/controls",
          "model_name": "SliderStyleModel",
          "model_module_version": "1.5.0",
          "state": {
            "_model_module": "@jupyter-widgets/controls",
            "_model_module_version": "1.5.0",
            "_model_name": "SliderStyleModel",
            "_view_count": null,
            "_view_module": "@jupyter-widgets/base",
            "_view_module_version": "1.2.0",
            "_view_name": "StyleView",
            "description_width": "",
            "handle_color": null
          }
        },
        "11b8f90cc4aa419a9de08654bbc0ff81": {
          "model_module": "@jupyter-widgets/base",
          "model_name": "LayoutModel",
          "model_module_version": "1.2.0",
          "state": {
            "_model_module": "@jupyter-widgets/base",
            "_model_module_version": "1.2.0",
            "_model_name": "LayoutModel",
            "_view_count": null,
            "_view_module": "@jupyter-widgets/base",
            "_view_module_version": "1.2.0",
            "_view_name": "LayoutView",
            "align_content": null,
            "align_items": null,
            "align_self": null,
            "border": null,
            "bottom": null,
            "display": null,
            "flex": null,
            "flex_flow": null,
            "grid_area": null,
            "grid_auto_columns": null,
            "grid_auto_flow": null,
            "grid_auto_rows": null,
            "grid_column": null,
            "grid_gap": null,
            "grid_row": null,
            "grid_template_areas": null,
            "grid_template_columns": null,
            "grid_template_rows": null,
            "height": null,
            "justify_content": null,
            "justify_items": null,
            "left": null,
            "margin": null,
            "max_height": null,
            "max_width": null,
            "min_height": null,
            "min_width": null,
            "object_fit": null,
            "object_position": null,
            "order": null,
            "overflow": null,
            "overflow_x": null,
            "overflow_y": null,
            "padding": null,
            "right": null,
            "top": null,
            "visibility": null,
            "width": null
          }
        },
        "795a7d171fdc4817bfeb001f304b49df": {
          "model_module": "@jupyter-widgets/controls",
          "model_name": "SliderStyleModel",
          "model_module_version": "1.5.0",
          "state": {
            "_model_module": "@jupyter-widgets/controls",
            "_model_module_version": "1.5.0",
            "_model_name": "SliderStyleModel",
            "_view_count": null,
            "_view_module": "@jupyter-widgets/base",
            "_view_module_version": "1.2.0",
            "_view_name": "StyleView",
            "description_width": "",
            "handle_color": null
          }
        },
        "ed4ce922a74a42f38de363d0a881b057": {
          "model_module": "@jupyter-widgets/base",
          "model_name": "LayoutModel",
          "model_module_version": "1.2.0",
          "state": {
            "_model_module": "@jupyter-widgets/base",
            "_model_module_version": "1.2.0",
            "_model_name": "LayoutModel",
            "_view_count": null,
            "_view_module": "@jupyter-widgets/base",
            "_view_module_version": "1.2.0",
            "_view_name": "LayoutView",
            "align_content": null,
            "align_items": null,
            "align_self": null,
            "border": null,
            "bottom": null,
            "display": null,
            "flex": null,
            "flex_flow": null,
            "grid_area": null,
            "grid_auto_columns": null,
            "grid_auto_flow": null,
            "grid_auto_rows": null,
            "grid_column": null,
            "grid_gap": null,
            "grid_row": null,
            "grid_template_areas": null,
            "grid_template_columns": null,
            "grid_template_rows": null,
            "height": null,
            "justify_content": null,
            "justify_items": null,
            "left": null,
            "margin": null,
            "max_height": null,
            "max_width": null,
            "min_height": null,
            "min_width": null,
            "object_fit": null,
            "object_position": null,
            "order": null,
            "overflow": null,
            "overflow_x": null,
            "overflow_y": null,
            "padding": null,
            "right": null,
            "top": null,
            "visibility": null,
            "width": null
          }
        }
      }
    }
  },
  "cells": [
    {
      "cell_type": "markdown",
      "metadata": {
        "id": "view-in-github",
        "colab_type": "text"
      },
      "source": [
        "<a href=\"https://colab.research.google.com/github/peng157/lucas/blob/main/simple_liner_regression.ipynb\" target=\"_parent\"><img src=\"https://colab.research.google.com/assets/colab-badge.svg\" alt=\"Open In Colab\"/></a>"
      ]
    },
    {
      "cell_type": "code",
      "source": [],
      "metadata": {
        "id": "CekcyOygfJAC"
      },
      "execution_count": null,
      "outputs": []
    },
    {
      "cell_type": "code",
      "source": [
        "!nvidia-smi"
      ],
      "metadata": {
        "colab": {
          "base_uri": "https://localhost:8080/"
        },
        "collapsed": true,
        "id": "na8WhzNMZVZg",
        "outputId": "c0b7d90d-79bb-4a84-c33b-87ca73512327"
      },
      "execution_count": 1,
      "outputs": [
        {
          "output_type": "stream",
          "name": "stdout",
          "text": [
            "Thu Dec  5 03:10:58 2024       \n",
            "+---------------------------------------------------------------------------------------+\n",
            "| NVIDIA-SMI 535.104.05             Driver Version: 535.104.05   CUDA Version: 12.2     |\n",
            "|-----------------------------------------+----------------------+----------------------+\n",
            "| GPU  Name                 Persistence-M | Bus-Id        Disp.A | Volatile Uncorr. ECC |\n",
            "| Fan  Temp   Perf          Pwr:Usage/Cap |         Memory-Usage | GPU-Util  Compute M. |\n",
            "|                                         |                      |               MIG M. |\n",
            "|=========================================+======================+======================|\n",
            "|   0  Tesla T4                       Off | 00000000:00:04.0 Off |                    0 |\n",
            "| N/A   45C    P8              12W /  70W |      0MiB / 15360MiB |      0%      Default |\n",
            "|                                         |                      |                  N/A |\n",
            "+-----------------------------------------+----------------------+----------------------+\n",
            "                                                                                         \n",
            "+---------------------------------------------------------------------------------------+\n",
            "| Processes:                                                                            |\n",
            "|  GPU   GI   CI        PID   Type   Process name                            GPU Memory |\n",
            "|        ID   ID                                                             Usage      |\n",
            "|=======================================================================================|\n",
            "|  No running processes found                                                           |\n",
            "+---------------------------------------------------------------------------------------+\n"
          ]
        }
      ]
    },
    {
      "cell_type": "code",
      "execution_count": 8,
      "metadata": {
        "id": "1mYYImpXYdFT"
      },
      "outputs": [],
      "source": [
        "import pandas as pd\n",
        "import matplotlib.pyplot as plt\n",
        "url='https://raw.githubusercontent.com/GrandmaCan/ML/main/Resgression/Salary_Data.csv'\n",
        "data=pd.read_csv(url)\n",
        "data #y=w*x+b\n",
        "x=data['YearsExperience']\n",
        "y=data['Salary']\n"
      ]
    },
    {
      "cell_type": "code",
      "source": [
        "\n",
        "def prediction_line(w,b):\n",
        "  y_pred=w*x+b\n",
        "  plt.scatter(x , y ,marker='o', label='real data') #real data=真實數據 #plt.scatter散步圖\n",
        "  plt.xlabel('year')\n",
        "  plt.ylabel('salary')\n",
        "  plt.title('year_salary')\n",
        "  plt.plot(x,y_pred,color='red',label='prediction line') #prediction line=預測線 #plt.plotc直線圖\n",
        "  plt.ylim(-30,180)\n",
        "  plt.xlim(0,10)\n",
        "  plt.legend()#左上標籤\n",
        "  plt.show()\n",
        "prediction_line(14,3)"
      ],
      "metadata": {
        "colab": {
          "base_uri": "https://localhost:8080/",
          "height": 472
        },
        "id": "H27SqG1j2uyR",
        "outputId": "e6b83375-f7cb-439d-e359-2d2b54a09b62"
      },
      "execution_count": 9,
      "outputs": [
        {
          "output_type": "display_data",
          "data": {
            "text/plain": [
              "<Figure size 640x480 with 1 Axes>"
            ],
            "image/png": "[encoded data removed]"
          },
          "metadata": {}
        }
      ]
    },
    {
      "cell_type": "code",
      "source": [
        "from ipywidgets import interact #自動畫圖\n",
        "interact(prediction_line,w=(-100,100,1),b=(-100,100,1))#搖桿(間距,間距差)"
      ],
      "metadata": {
        "colab": {
          "base_uri": "https://localhost:8080/",
          "height": 622,
          "referenced_widgets": [
            "233194a776c2443c974b1af41d4d59ff",
            "563669c8e6de457f954b71faed8c625b",
            "8f3741e490444516b9762ce0d14345ef",
            "3bd5e544cb3a470e812d37f72491b637",
            "99fa7eac09d644a3852b2fdb737e9172",
            "30e807ee748c407abde617760a87cdc5",
            "bf0330c759c94be5902204023f3bb0ee",
            "11b8f90cc4aa419a9de08654bbc0ff81",
            "795a7d171fdc4817bfeb001f304b49df",
            "ed4ce922a74a42f38de363d0a881b057"
          ]
        },
        "id": "t4YfvWZp6wXd",
        "outputId": "b85c4325-fd99-425d-8c9a-6aa30d0961bf"
      },
      "execution_count": 10,
      "outputs": [
        {
          "output_type": "display_data",
          "data": {
            "text/plain": [
              "interactive(children=(IntSlider(value=0, description='w', min=-100), IntSlider(value=0, description='b', min=-…"
            ],
            "application/vnd.jupyter.widget-view+json": {
              "version_major": 2,
              "version_minor": 0,
              "model_id": "233194a776c2443c974b1af41d4d59ff"
            }
          },
          "metadata": {}
        },
        {
          "output_type": "execute_result",
          "data": {
            "text/plain": [
              "<function __main__.prediction_line(w, b)>"
            ],
            "text/html": [
              "<div style=\"max-width:800px; border: 1px solid var(--colab-border-color);\"><style>\n",
              "      pre.function-repr-contents {\n",
              "        overflow-x: auto;\n",
              "        padding: 8px 12px;\n",
              "        max-height: 500px;\n",
              "      }\n",
              "\n",
              "      pre.function-repr-contents.function-repr-contents-collapsed {\n",
              "        cursor: pointer;\n",
              "        max-height: 100px;\n",
              "      }\n",
              "    </style>\n",
              "    <pre style=\"white-space: initial; background:\n",
              "         var(--colab-secondary-surface-color); padding: 8px 12px;\n",
              "         border-bottom: 1px solid var(--colab-border-color);\"><b>prediction_line</b><br/>def prediction_line(w, b)</pre><pre class=\"function-repr-contents function-repr-contents-collapsed\" style=\"\"><a class=\"filepath\" style=\"display:none\" href=\"#\">/content/&lt;ipython-input-9-02e96022c43c&gt;</a>&lt;no docstring&gt;</pre></div>"
            ]
          },
          "metadata": {},
          "execution_count": 10
        }
      ]
    }
  ]
}